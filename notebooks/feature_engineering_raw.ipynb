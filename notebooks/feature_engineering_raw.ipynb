{
 "cells": [
  {
   "cell_type": "code",
   "execution_count": 2,
   "metadata": {},
   "outputs": [],
   "source": [
    "import pandas as pd\n",
    "pd.options.mode.chained_assignment = None  # default='warn'\n",
    "import numpy as np\n",
    "import matplotlib.pyplot as plt\n",
    "from scipy.spatial import ConvexHull, convex_hull_plot_2d\n",
    "import math\n",
    "from celluloid import Camera\n",
    "import pyarrow.feather as feather\n",
    "import json\n",
    "import os\n",
    "import sys"
   ]
  },
  {
   "cell_type": "code",
   "execution_count": 28,
   "metadata": {},
   "outputs": [],
   "source": [
    "#f.close()"
   ]
  },
  {
   "cell_type": "code",
   "execution_count": 34,
   "metadata": {},
   "outputs": [],
   "source": [
    "with open('0021500492.json') as f:\n",
    "  data = json.load(f)\n",
    "\n",
    "f.close()"
   ]
  },
  {
   "cell_type": "code",
   "execution_count": 35,
   "metadata": {},
   "outputs": [],
   "source": [
    "outcomes = pd.read_csv('events_combined.csv')"
   ]
  },
  {
   "cell_type": "code",
   "execution_count": 130,
   "metadata": {},
   "outputs": [],
   "source": [
    "shot_distance_percentage = pd.read_csv('shot_distance_percentage.csv')"
   ]
  },
  {
   "cell_type": "markdown",
   "metadata": {},
   "source": [
    "### Here are some of the potential columns in the dataset\n",
    "gameid, gamedate, events - (eventId, visitor - (name, teamid, abbreviation, players - (lastname, firstname, playerid, jersey, position)), home - (name, teamid, abbreviation, players - (lastname, firstname, playerid, jersey, position)), moments"
   ]
  },
  {
   "cell_type": "markdown",
   "metadata": {},
   "source": [
    "Events has a ton of information in it. Currently in its dict format we get repeating info for teams and players for each event in a game. \n",
    "\n",
    "Moments will contain the player and ball movement data, I am currently unsure of a few of the variables in here but most of it looks pretty robust."
   ]
  },
  {
   "cell_type": "code",
   "execution_count": 36,
   "metadata": {},
   "outputs": [],
   "source": [
    "events = data['events']"
   ]
  },
  {
   "cell_type": "code",
   "execution_count": 37,
   "metadata": {},
   "outputs": [],
   "source": [
    "# 11 line time set up\n",
    "movement_headers = [\"team_id\", \"player_id\", \"x_loc\", \"y_loc\", \"radius\", \"game_clock\", \"shot_clock\", \"quarter\", \"game_id\",\n",
    "                    \"event_id\"]\n",
    "\n",
    "csv_path = 'C:\\\\Users\\\\Anthony\\\\Documents\\\\CapstoneDS-5999'\n",
    "feather_path = 'C:\\\\Users\\\\Anthony\\\\Documents\\\\CapstoneDS-5999'\n",
    "game_id = '0021500492'\n",
    "\n",
    "moments = []\n",
    "\n",
    "for event in events:\n",
    "    event_id = event['eventId']\n",
    "    movement_data = event['moments']\n",
    "    for moment in movement_data:\n",
    "        for player in moment[5]:\n",
    "            player.extend((moment[2], moment[3], moment[0], game_id, event_id))\n",
    "            moments.append(player)\n",
    "\n",
    "# movement frame is complete for game\n",
    "movement = pd.DataFrame(moments, columns=movement_headers)\n",
    "#movement.to_csv('%s/%s.csv' % (csv_path, game_id), index=False)\n",
    "feather.write_feather(movement,'%s/%s.file' % (feather_path, game_id))"
   ]
  },
  {
   "cell_type": "code",
   "execution_count": 38,
   "metadata": {},
   "outputs": [],
   "source": [
    "def RepresentsInt(s):\n",
    "    int_bin = []\n",
    "    for i in range(len(s)):\n",
    "        try: \n",
    "            int(s[i])\n",
    "            int_bin.append(1)\n",
    "        except ValueError:\n",
    "            int_bin.append(0)\n",
    "    return int_bin\n",
    "    \n",
    "int_ind = RepresentsInt(outcomes.PERIOD)"
   ]
  },
  {
   "cell_type": "code",
   "execution_count": 39,
   "metadata": {},
   "outputs": [],
   "source": [
    "outcomes['period_index_filter'] = int_ind\n",
    "outcomes = outcomes[outcomes.period_index_filter == 1]"
   ]
  },
  {
   "cell_type": "code",
   "execution_count": 40,
   "metadata": {},
   "outputs": [],
   "source": [
    "movement['event_id'] = movement.event_id.astype('int')\n",
    "movement['game_id'] = movement.game_id.astype('string')\n",
    "\n",
    "outcomes.PCTIMESTRING = outcomes.PCTIMESTRING.astype('string')\n",
    "outcomes.PERIOD = outcomes.PERIOD.astype('int')\n",
    "outcomes.EVENTMSGTYPE = outcomes.EVENTMSGTYPE.astype('int')"
   ]
  },
  {
   "cell_type": "code",
   "execution_count": 41,
   "metadata": {},
   "outputs": [],
   "source": [
    "outcomes.reset_index(inplace=True)\n",
    "\n",
    "shooter = []\n",
    "for i in range(outcomes.shape[0]):\n",
    "    if outcomes.EVENTMSGTYPE[i] == 2:\n",
    "        if str(outcomes.HOMEDESCRIPTION[i]).find('MISS') != -1:\n",
    "            name = outcomes.HOMEDESCRIPTION[i].split()[1]\n",
    "            if (name == 'Marc') | (name == 'Mark') | (\".\" in name):\n",
    "                shooter.append(name + \" \" + outcomes.HOMEDESCRIPTION[i].split()[2])\n",
    "            else:\n",
    "                shooter.append(name)\n",
    "        elif str(outcomes.VISITORDESCRIPTION[i]).find('MISS') != -1:\n",
    "            name = outcomes.VISITORDESCRIPTION[i].split()[1]\n",
    "            if (name == 'Marc') | (name == 'Mark') | (\".\" in name):\n",
    "                shooter.append(name + \" \" + outcomes.VISITORDESCRIPTION[i].split()[2])\n",
    "            else:\n",
    "                shooter.append(name)\n",
    "    elif outcomes.EVENTMSGTYPE[i] == 1:\n",
    "        if str(outcomes.HOMEDESCRIPTION[i]) != 'nan':\n",
    "            name = outcomes.HOMEDESCRIPTION[i].split()[0]\n",
    "            if (name == 'Marc') | (name == 'Mark') | (\".\" in name):\n",
    "                shooter.append(name + \" \" + outcomes.HOMEDESCRIPTION[i].split()[1])\n",
    "            else:\n",
    "                shooter.append(name)\n",
    "        elif str(outcomes.VISITORDESCRIPTION[i]) != 'nan':\n",
    "            name = outcomes.VISITORDESCRIPTION[i].split()[0]\n",
    "            if (name == 'Marc') | (name == 'Mark') | (\".\" in name):\n",
    "                shooter.append(name + \" \" + outcomes.VISITORDESCRIPTION[i].split()[1])\n",
    "            else:\n",
    "                shooter.append(name)\n",
    "    else:\n",
    "        shooter.append(np.nan)\n",
    "\n",
    "outcomes['shooter'] = shooter\n",
    "\n",
    "outcomes_filtered = outcomes.loc[:,['GAME_ID', 'EVENTNUM', 'EVENTMSGTYPE', 'EVENTMSGACTIONTYPE', 'PERIOD', 'PCTIMESTRING', 'HOMEDESCRIPTION', 'VISITORDESCRIPTION', 'SCORE', 'SCOREMARGIN', 'shooter']]\n",
    "\n",
    "feather.write_feather(outcomes_filtered, 'outcomes.file')"
   ]
  },
  {
   "cell_type": "code",
   "execution_count": 136,
   "metadata": {},
   "outputs": [],
   "source": [
    "def convert_game_clock(seconds): \n",
    "    seconds = round(seconds)\n",
    "    actual_seconds = seconds % 60 \n",
    "    minutes = seconds // 60\n",
    "      \n",
    "    return \"%02d:%02d\" % (minutes, actual_seconds)"
   ]
  },
  {
   "cell_type": "code",
   "execution_count": 137,
   "metadata": {},
   "outputs": [],
   "source": [
    "game_clock_new = pd.Series(movement.game_clock).map(convert_game_clock)"
   ]
  },
  {
   "cell_type": "code",
   "execution_count": 45,
   "metadata": {},
   "outputs": [],
   "source": [
    "#game_clock_new = []\n",
    "#for i in range(movement.shape[0]):\n",
    "#    game_clock_new.append(convert_game_clock(movement.loc[:,'game_clock'].iloc[i]))   "
   ]
  },
  {
   "cell_type": "code",
   "execution_count": 138,
   "metadata": {},
   "outputs": [],
   "source": [
    "movement['game_clock_new'] = game_clock_new\n",
    "movement.game_clock_new = movement.game_clock_new.astype('string')"
   ]
  },
  {
   "cell_type": "code",
   "execution_count": 139,
   "metadata": {},
   "outputs": [],
   "source": [
    "movement['game_clock_total'] = movement.game_clock * movement.quarter"
   ]
  },
  {
   "cell_type": "code",
   "execution_count": 140,
   "metadata": {},
   "outputs": [],
   "source": [
    "movement = movement.sort_values(['quarter','game_clock','event_id'], ascending = (True, False, True)).reset_index()\n",
    "movement.drop_duplicates(subset = ['player_id', 'x_loc', 'y_loc', 'game_clock', 'shot_clock', 'quarter'],inplace = True)"
   ]
  },
  {
   "cell_type": "code",
   "execution_count": 141,
   "metadata": {},
   "outputs": [
    {
     "data": {
      "text/plain": [
       "64995"
      ]
     },
     "execution_count": 141,
     "metadata": {},
     "output_type": "execute_result"
    }
   ],
   "source": [
    "movement.shot_clock.isna().sum()"
   ]
  },
  {
   "cell_type": "code",
   "execution_count": 142,
   "metadata": {},
   "outputs": [
    {
     "data": {
      "text/plain": [
       "(879202, 13)"
      ]
     },
     "execution_count": 142,
     "metadata": {},
     "output_type": "execute_result"
    }
   ],
   "source": [
    "movement.shape"
   ]
  },
  {
   "cell_type": "code",
   "execution_count": 27,
   "metadata": {},
   "outputs": [
    {
     "ename": "NameError",
     "evalue": "name 'movement' is not defined",
     "output_type": "error",
     "traceback": [
      "\u001b[1;31m---------------------------------------------------------------------------\u001b[0m",
      "\u001b[1;31mNameError\u001b[0m                                 Traceback (most recent call last)",
      "\u001b[1;32m<ipython-input-27-54b07663d11f>\u001b[0m in \u001b[0;36m<module>\u001b[1;34m\u001b[0m\n\u001b[1;32m----> 1\u001b[1;33m \u001b[0mmovement\u001b[0m\u001b[1;33m[\u001b[0m\u001b[0mmovement\u001b[0m\u001b[1;33m.\u001b[0m\u001b[0mshot_clock\u001b[0m \u001b[1;33m==\u001b[0m \u001b[1;36m24\u001b[0m\u001b[1;33m]\u001b[0m\u001b[1;33m.\u001b[0m\u001b[0mshape\u001b[0m\u001b[1;33m[\u001b[0m\u001b[1;36m0\u001b[0m\u001b[1;33m]\u001b[0m\u001b[1;33m\u001b[0m\u001b[1;33m\u001b[0m\u001b[0m\n\u001b[0m",
      "\u001b[1;31mNameError\u001b[0m: name 'movement' is not defined"
     ]
    }
   ],
   "source": [
    "movement = movement[movement.shot_clock == 24]"
   ]
  },
  {
   "cell_type": "code",
   "execution_count": 144,
   "metadata": {},
   "outputs": [],
   "source": [
    "game_clock_filter = movement.groupby(['game_clock_total']).count()['game_id'].loc[lambda x: x == 11].sort_values().index.get_level_values(0).tolist()\n",
    "movement = movement[movement.game_clock_total.isin(game_clock_filter)]"
   ]
  },
  {
   "cell_type": "code",
   "execution_count": 145,
   "metadata": {},
   "outputs": [
    {
     "data": {
      "text/plain": [
       "(433191, 13)"
      ]
     },
     "execution_count": 145,
     "metadata": {},
     "output_type": "execute_result"
    }
   ],
   "source": [
    "movement.shape"
   ]
  },
  {
   "cell_type": "code",
   "execution_count": 146,
   "metadata": {},
   "outputs": [],
   "source": [
    "merge_df = movement.merge(outcomes_filtered, left_on=['game_id' ,'quarter', 'game_clock_new'], right_on=['GAME_ID', 'PERIOD', 'PCTIMESTRING'], how='left')"
   ]
  },
  {
   "cell_type": "code",
   "execution_count": 147,
   "metadata": {},
   "outputs": [],
   "source": [
    "merge_df.drop_duplicates(subset = ['player_id', 'x_loc', 'y_loc', 'game_clock', 'shot_clock', 'quarter'], inplace=True)"
   ]
  },
  {
   "cell_type": "code",
   "execution_count": 148,
   "metadata": {},
   "outputs": [],
   "source": [
    "merge_df.reset_index(inplace=True)"
   ]
  },
  {
   "cell_type": "code",
   "execution_count": 149,
   "metadata": {},
   "outputs": [
    {
     "data": {
      "text/plain": [
       "18"
      ]
     },
     "execution_count": 149,
     "metadata": {},
     "output_type": "execute_result"
    }
   ],
   "source": [
    "len(merge_df.EVENTNUM.unique())"
   ]
  },
  {
   "cell_type": "markdown",
   "metadata": {},
   "source": [
    "There will be duplicates from the merge if there are two outcomes at a single point in time i.e. free throws. But this should be removed once we work down the dataset to only look at the plays that we want to. Half-court set defenses."
   ]
  },
  {
   "cell_type": "markdown",
   "metadata": {},
   "source": [
    "##  variable for distance from the ball"
   ]
  },
  {
   "cell_type": "code",
   "execution_count": 150,
   "metadata": {},
   "outputs": [],
   "source": [
    "dist_from_ball = []\n",
    "\n",
    "for i in range(merge_df.shape[0]):\n",
    "    if i % 11 == 0:\n",
    "        for j in range(11):\n",
    "            dist = math.sqrt(((merge_df.x_loc[i] - merge_df.x_loc[i+j])**2) + ((merge_df.y_loc[i] - merge_df.y_loc[i+j])**2))\n",
    "            dist_from_ball.append(dist)"
   ]
  },
  {
   "cell_type": "code",
   "execution_count": 151,
   "metadata": {},
   "outputs": [],
   "source": [
    "merge_df['dist_from_ball'] = dist_from_ball"
   ]
  },
  {
   "cell_type": "code",
   "execution_count": 152,
   "metadata": {},
   "outputs": [],
   "source": [
    "merge_df = merge_df.drop(['index','level_0', 'event_id'], axis=1)"
   ]
  },
  {
   "cell_type": "markdown",
   "metadata": {},
   "source": [
    "## Fill NA's"
   ]
  },
  {
   "cell_type": "code",
   "execution_count": 153,
   "metadata": {},
   "outputs": [],
   "source": [
    "merge_df = merge_df.sort_values(['quarter','game_clock','EVENTNUM'], ascending = (True, False, True)).reset_index()"
   ]
  },
  {
   "cell_type": "code",
   "execution_count": 154,
   "metadata": {},
   "outputs": [],
   "source": [
    "merge_df.EVENTNUM.fillna(method='bfill', inplace=True)\n",
    "merge_df.EVENTMSGTYPE.fillna(method='bfill', inplace=True)\n",
    "merge_df.drop(['index'], axis=1, inplace=True)"
   ]
  },
  {
   "cell_type": "markdown",
   "metadata": {},
   "source": [
    "## Filtering Events by those lasting longer than 8 seconds"
   ]
  },
  {
   "cell_type": "code",
   "execution_count": 155,
   "metadata": {},
   "outputs": [],
   "source": [
    "poss_time = merge_df.groupby(['EVENTNUM']).agg({'game_clock_total': ['min', 'max']})\n",
    "\n",
    "poss_df = pd.DataFrame(poss_time.assign(dif = lambda poss_time: poss_time.iloc[:,1] - poss_time.iloc[:,0]).iloc[:,2]).reset_index()"
   ]
  },
  {
   "cell_type": "code",
   "execution_count": 156,
   "metadata": {},
   "outputs": [
    {
     "name": "stderr",
     "output_type": "stream",
     "text": [
      "C:\\Users\\Anthony\\Anaconda3\\envs\\lib\\site-packages\\pandas\\core\\reshape\\merge.py:643: UserWarning: merging between different levels can give an unintended result (1 levels on the left,2 on the right)\n",
      "  warnings.warn(msg, UserWarning)\n",
      "C:\\Users\\Anthony\\Anaconda3\\envs\\lib\\site-packages\\pandas\\core\\generic.py:3878: PerformanceWarning: dropping on a non-lexsorted multi-index without a level parameter may impact performance.\n",
      "  obj = obj._drop_axis(labels, axis, level=level, errors=errors)\n"
     ]
    }
   ],
   "source": [
    "merge_df = merge_df.merge(poss_df, on='EVENTNUM', how = 'inner')"
   ]
  },
  {
   "cell_type": "code",
   "execution_count": 157,
   "metadata": {},
   "outputs": [],
   "source": [
    "merge_df.rename(columns = {('dif', ''): 'poss_time'}, inplace=True)"
   ]
  },
  {
   "cell_type": "code",
   "execution_count": 158,
   "metadata": {},
   "outputs": [],
   "source": [
    "event_filter = merge_df.groupby('EVENTNUM').mean()['poss_time'].loc[lambda x: x > 8].sort_values().index.get_level_values(0).tolist()"
   ]
  },
  {
   "cell_type": "code",
   "execution_count": 159,
   "metadata": {},
   "outputs": [],
   "source": [
    "merge_df = merge_df[merge_df.EVENTNUM.isin(event_filter)]"
   ]
  },
  {
   "cell_type": "code",
   "execution_count": 160,
   "metadata": {},
   "outputs": [
    {
     "data": {
      "text/plain": [
       "342353"
      ]
     },
     "execution_count": 160,
     "metadata": {},
     "output_type": "execute_result"
    }
   ],
   "source": [
    "merge_df.shape[0]"
   ]
  },
  {
   "cell_type": "code",
   "execution_count": 161,
   "metadata": {},
   "outputs": [
    {
     "data": {
      "text/plain": [
       "13"
      ]
     },
     "execution_count": 161,
     "metadata": {},
     "output_type": "execute_result"
    }
   ],
   "source": [
    "len(merge_df.EVENTNUM.unique())"
   ]
  },
  {
   "cell_type": "markdown",
   "metadata": {},
   "source": [
    "## Possession"
   ]
  },
  {
   "cell_type": "code",
   "execution_count": 162,
   "metadata": {},
   "outputs": [],
   "source": [
    "loc_feature = pd.DataFrame(merge_df.groupby('EVENTNUM').mean()['x_loc']).reset_index().rename(columns = {'x_loc':'avg_loc'})"
   ]
  },
  {
   "cell_type": "code",
   "execution_count": 163,
   "metadata": {},
   "outputs": [],
   "source": [
    "merge_df = merge_df.merge(loc_feature, on='EVENTNUM', how='inner')"
   ]
  },
  {
   "cell_type": "markdown",
   "metadata": {},
   "source": [
    "Assumes the first made shot will be in the first half"
   ]
  },
  {
   "cell_type": "code",
   "execution_count": 164,
   "metadata": {},
   "outputs": [],
   "source": [
    "first_made_shot_event = merge_df[(merge_df.EVENTMSGTYPE == 1) | (merge_df.EVENTMSGTYPE == 2)].loc[:,'EVENTNUM'].iloc[0]"
   ]
  },
  {
   "cell_type": "code",
   "execution_count": 165,
   "metadata": {},
   "outputs": [],
   "source": [
    "poss_loc = merge_df[merge_df.EVENTNUM == first_made_shot_event].loc[:,'x_loc'].mean()\n",
    "poss_indic = pd.DataFrame(merge_df[merge_df.EVENTNUM == first_made_shot_event].loc[:,['HOMEDESCRIPTION','VISITORDESCRIPTION']].iloc[-1].tolist())\n",
    "side = poss_indic[poss_indic[0].notnull()].index.tolist()[0]"
   ]
  },
  {
   "cell_type": "code",
   "execution_count": 166,
   "metadata": {},
   "outputs": [],
   "source": [
    "side_loc = 0\n",
    "if poss_loc > 50:\n",
    "    side_loc == 1"
   ]
  },
  {
   "cell_type": "code",
   "execution_count": 167,
   "metadata": {},
   "outputs": [],
   "source": [
    "home_id = merge_df.loc[:,'team_id'].iloc[1]\n",
    "away_id = merge_df.loc[:,'team_id'].iloc[6]"
   ]
  },
  {
   "cell_type": "markdown",
   "metadata": {},
   "source": [
    "##### 4 possiblities: \n",
    "- away team scores first, on right side of court\n",
    "\n",
    "- away team scores first, on left side of court\n",
    "       \n",
    "- home team scores first, on right side of court\n",
    "\n",
    "- home team scores first, on left side of court"
   ]
  },
  {
   "cell_type": "code",
   "execution_count": 168,
   "metadata": {},
   "outputs": [],
   "source": [
    "possession = []\n",
    "for i in range(merge_df.shape[0]): \n",
    "    if i % 11 == 0:\n",
    "        possession.append(np.nan)\n",
    "    else:\n",
    "        # away, right\n",
    "        if side == 1:  \n",
    "            if side_loc == 1:\n",
    "                if merge_df.quarter[i] < 3:\n",
    "                    if merge_df.avg_loc[i] > 50:\n",
    "                        if merge_df.team_id[i] == home_id:\n",
    "                            possession.append(0)\n",
    "                        elif merge_df.team_id[i] == away_id:\n",
    "                            possession.append(1)\n",
    "                    else:\n",
    "                        if merge_df.team_id[i] == home_id:\n",
    "                            possession.append(1)\n",
    "                        elif merge_df.team_id[i] == away_id:\n",
    "                            possession.append(0)\n",
    "                else:\n",
    "                    if merge_df.avg_loc[i] > 50:\n",
    "                        if merge_df.team_id[i] == home_id:\n",
    "                            possession.append(1)\n",
    "                        elif merge_df.team_id[i] == away_id:\n",
    "                            possession.append(0)\n",
    "                    else:\n",
    "                        if merge_df.team_id[i] == home_id:\n",
    "                            possession.append(0)\n",
    "                        elif merge_df.team_id[i] == away_id:\n",
    "                            possession.append(1)\n",
    "            # away left\n",
    "            else:\n",
    "                if merge_df.quarter[i] < 3:\n",
    "                    if merge_df.avg_loc[i] > 50:\n",
    "                        if merge_df.team_id[i] == home_id:\n",
    "                            possession.append(1)\n",
    "                        elif merge_df.team_id[i] == away_id:\n",
    "                            possession.append(0)\n",
    "                    else:\n",
    "                        if merge_df.team_id[i] == home_id:\n",
    "                            possession.append(0)\n",
    "                        elif merge_df.team_id[i] == away_id:\n",
    "                            possession.append(1)\n",
    "                else:\n",
    "                    if merge_df.avg_loc[i] > 50:\n",
    "                        if merge_df.team_id[i] == home_id:\n",
    "                            possession.append(0)\n",
    "                        elif merge_df.team_id[i] == away_id:\n",
    "                            possession.append(1) \n",
    "                    else:\n",
    "                        if merge_df.team_id[i] == home_id:\n",
    "                            possession.append(1)\n",
    "                        elif merge_df.team_id[i] == away_id:\n",
    "                            possession.append(0)\n",
    "        # home, right\n",
    "        else:\n",
    "            if side_loc == 1:\n",
    "                if merge_df.quarter[i] < 3:\n",
    "                    if merge_df.avg_loc[i] > 50:\n",
    "                        if merge_df.team_id[i] == home_id:\n",
    "                            possession.append(1)\n",
    "                        elif merge_df.team_id[i] == away_id:\n",
    "                            possession.append(0)\n",
    "                    else:\n",
    "                        if merge_df.team_id[i] == home_id:\n",
    "                            possession.append(0)\n",
    "                        elif merge_df.team_id[i] == away_id:\n",
    "                            possession.append(1)\n",
    "                else:\n",
    "                    if merge_df.avg_loc[i] > 50:\n",
    "                        if merge_df.team_id[i] == home_id:\n",
    "                            possession.append(0)\n",
    "                        elif merge_df.team_id[i] == away_id:\n",
    "                            possession.append(1)\n",
    "                    else:\n",
    "                        if merge_df.team_id[i] == home_id:\n",
    "                            possession.append(1)\n",
    "                        elif merge_df.team_id[i] == away_id:\n",
    "                            possession.append(0)\n",
    "            # home left\n",
    "            else:\n",
    "                if merge_df.quarter[i] < 3:\n",
    "                    if merge_df.avg_loc[i] > 50:\n",
    "                        if merge_df.team_id[i] == home_id:\n",
    "                            possession.append(0)\n",
    "                        elif merge_df.team_id[i] == away_id:\n",
    "                            possession.append(1)\n",
    "                    else:\n",
    "                        if merge_df.team_id[i] == home_id:\n",
    "                            possession.append(1)\n",
    "                        elif merge_df.team_id[i] == away_id:\n",
    "                            possession.append(0)\n",
    "                else:\n",
    "                    if merge_df.avg_loc[i] > 50:\n",
    "                        if merge_df.team_id[i] == home_id:\n",
    "                            possession.append(1)\n",
    "                        elif merge_df.team_id[i] == away_id:\n",
    "                            possession.append(0)  \n",
    "                    else:\n",
    "                        if merge_df.team_id[i] == home_id:\n",
    "                            possession.append(0)\n",
    "                        elif merge_df.team_id[i] == away_id:\n",
    "                            possession.append(1)"
   ]
  },
  {
   "cell_type": "code",
   "execution_count": 169,
   "metadata": {},
   "outputs": [
    {
     "data": {
      "text/plain": [
       "(342353, 24)"
      ]
     },
     "execution_count": 169,
     "metadata": {},
     "output_type": "execute_result"
    }
   ],
   "source": [
    "merge_df.shape"
   ]
  },
  {
   "cell_type": "code",
   "execution_count": 170,
   "metadata": {},
   "outputs": [
    {
     "data": {
      "text/plain": [
       "342353"
      ]
     },
     "execution_count": 170,
     "metadata": {},
     "output_type": "execute_result"
    }
   ],
   "source": [
    "len(possession)"
   ]
  },
  {
   "cell_type": "code",
   "execution_count": 171,
   "metadata": {},
   "outputs": [],
   "source": [
    "merge_df['possession'] = possession"
   ]
  },
  {
   "cell_type": "markdown",
   "metadata": {},
   "source": [
    "## Closest Players to the ball"
   ]
  },
  {
   "cell_type": "code",
   "execution_count": 172,
   "metadata": {},
   "outputs": [],
   "source": [
    "closest_defender = []\n",
    "ball_handler = []\n",
    "for i in range(merge_df.shape[0]):\n",
    "    if i % 11 == 0:\n",
    "        team1_close = min(merge_df.dist_from_ball[i+1:i+6])\n",
    "        team2_close = min(merge_df.dist_from_ball[i+6:i+11])\n",
    "        for j in range(11):\n",
    "            if merge_df.dist_from_ball[i+j] == team1_close:\n",
    "                if merge_df.possession[i+j] == 0:\n",
    "                    closest_defender.append(1)\n",
    "                    ball_handler.append(0) \n",
    "                else:\n",
    "                    ball_handler.append(1)\n",
    "                    closest_defender.append(0)\n",
    "            elif merge_df.dist_from_ball[i+j] == team2_close:\n",
    "                if merge_df.possession[i+j] == 0:\n",
    "                    closest_defender.append(1)\n",
    "                    ball_handler.append(0) \n",
    "                else:\n",
    "                    ball_handler.append(1)\n",
    "                    closest_defender.append(0)\n",
    "            else:\n",
    "                closest_defender.append(0)\n",
    "                ball_handler.append(0)"
   ]
  },
  {
   "cell_type": "code",
   "execution_count": 173,
   "metadata": {},
   "outputs": [],
   "source": [
    "merge_df['closest_defender'] = closest_defender\n",
    "merge_df['ball_handler'] = ball_handler"
   ]
  },
  {
   "cell_type": "code",
   "execution_count": 174,
   "metadata": {},
   "outputs": [],
   "source": [
    "closest_defender_dist = []\n",
    "for i in range(merge_df.shape[0]):\n",
    "    if i % 11 == 0:\n",
    "        ball_handler_ind = 0\n",
    "        closest_defender_ind = 0\n",
    "        for j in range(11):\n",
    "            if merge_df.ball_handler[i+j] == 1:\n",
    "                ball_handler_ind = i+j\n",
    "        for k in range(11):\n",
    "            if merge_df.closest_defender[i+k] == 1:\n",
    "                closest_defender_ind = i+k\n",
    "                closest_defender_dist.append(math.sqrt(((merge_df.x_loc[ball_handler_ind] - merge_df.x_loc[closest_defender_ind])**2) + \n",
    "                                                       ((merge_df.y_loc[ball_handler_ind] - merge_df.y_loc[closest_defender_ind])**2)))\n",
    "\n",
    "            else:\n",
    "                closest_defender_dist.append(0)             "
   ]
  },
  {
   "cell_type": "code",
   "execution_count": 175,
   "metadata": {},
   "outputs": [],
   "source": [
    "merge_df['closest_defender_dist'] = closest_defender_dist"
   ]
  },
  {
   "cell_type": "markdown",
   "metadata": {},
   "source": [
    "## Closest Defender To Any Offensive Player"
   ]
  },
  {
   "cell_type": "code",
   "execution_count": 180,
   "metadata": {},
   "outputs": [],
   "source": [
    "closest_defender_dist = []"
   ]
  },
  {
   "cell_type": "code",
   "execution_count": 181,
   "metadata": {},
   "outputs": [],
   "source": [
    "for i in range(merge_df.shape[0]):\n",
    "    if i % 11 == 0:  \n",
    "        closest_defender_dist.append(np.nan)\n",
    "        offense_ind = []\n",
    "        defense_ind = []\n",
    "        for j in range(11):\n",
    "            if merge_df.possession[i+j] == 1:\n",
    "                offense_ind.append(i+j)\n",
    "            else:\n",
    "                defense_ind.append(i+j)\n",
    "        if offense_ind[0] > defense_ind[0]:\n",
    "            closest_defender_dist.extend([np.nan,np.nan,np.nan,np.nan,np.nan]) \n",
    "        for k in range(len(offense_ind)):\n",
    "            dist = []\n",
    "            for l in range(11):\n",
    "                if merge_df.possession[i+l] == 0:\n",
    "                    dist.append(math.sqrt((merge_df.x_loc[offense_ind[k]] - merge_df.x_loc[i+l])**2) + ((merge_df.y_loc[offense_ind[k]] - merge_df.y_loc[i+k])**2))\n",
    "            closest_defender_dist.append(min(dist))\n",
    "        if offense_ind[0] < defense_ind[0]:\n",
    "            closest_defender_dist.extend([np.nan,np.nan,np.nan,np.nan,np.nan])"
   ]
  },
  {
   "cell_type": "code",
   "execution_count": 184,
   "metadata": {},
   "outputs": [],
   "source": [
    "merge_df.closest_defender_dist = closest_defender_dist"
   ]
  },
  {
   "cell_type": "markdown",
   "metadata": {},
   "source": [
    "## Distance from Basket"
   ]
  },
  {
   "cell_type": "code",
   "execution_count": null,
   "metadata": {},
   "outputs": [],
   "source": [
    "left_basket_coordinates = [5.25, 25]\n",
    "right_basket_coordinates = [88.65, 25]"
   ]
  },
  {
   "cell_type": "code",
   "execution_count": null,
   "metadata": {},
   "outputs": [],
   "source": [
    "dist_from_basket = []\n",
    "for i in range(merge_df.shape[0]):\n",
    "    left_basket_dist = math.sqrt(((merge_df.x_loc[i] - left_basket_coordinates[0])**2) + ((merge_df.y_loc[i] - left_basket_coordinates[1])**2))\n",
    "    right_basket_dist = math.sqrt(((merge_df.x_loc[i] - right_basket_coordinates[0])**2) + ((merge_df.y_loc[i] - right_basket_coordinates[1])**2))\n",
    "    dist_from_basket.append(min(left_basket_dist, right_basket_dist))           "
   ]
  },
  {
   "cell_type": "code",
   "execution_count": null,
   "metadata": {},
   "outputs": [],
   "source": [
    "merge_df['dist_from_basket'] = dist_from_basket"
   ]
  },
  {
   "cell_type": "code",
   "execution_count": null,
   "metadata": {},
   "outputs": [],
   "source": [
    "player_dist_bin = []\n",
    "for i in range(merge_df.shape[0]):\n",
    "    if merge_df.player_id[i] != -1:\n",
    "        if merge_df.dist_from_basket[i] <= 8:\n",
    "            player_dist_bin.append(0)\n",
    "        elif (merge_df.dist_from_basket[i] > 8) & (merge_df.dist_from_basket[i] <= 16):\n",
    "            player_dist_bin.append(8)\n",
    "        elif (merge_df.dist_from_basket[i] > 16) & (merge_df.dist_from_basket[i] <= 24):\n",
    "            player_dist_bin.append(16)\n",
    "        elif (merge_df.dist_from_basket[i] > 24) & (merge_df.dist_from_basket[i] <= 50):\n",
    "            player_dist_bin.append(24)\n",
    "        else:\n",
    "            player_dist_bin.append(50)\n",
    "    else:\n",
    "        player_dist_bin.append(np.nan)"
   ]
  },
  {
   "cell_type": "code",
   "execution_count": null,
   "metadata": {},
   "outputs": [],
   "source": [
    "merge_df['player_dist_bin'] = player_dist_bin"
   ]
  },
  {
   "cell_type": "code",
   "execution_count": null,
   "metadata": {},
   "outputs": [],
   "source": [
    "merge_df = merge_df.merge(shot_distance_percentage, left_on = ['player_id', 'player_dist_bin'], right_on = ['PLAYER_ID', 'SHOT_RANGE_BIN'], how='left')"
   ]
  },
  {
   "cell_type": "markdown",
   "metadata": {},
   "source": [
    "## Offense/Defense Shapes"
   ]
  },
  {
   "cell_type": "code",
   "execution_count": 220,
   "metadata": {},
   "outputs": [],
   "source": [
    "team1_id = merge_df.loc[:,'team_id'].iloc[1]\n",
    "team2_id = merge_df.loc[:,'team_id'].iloc[6]"
   ]
  },
  {
   "cell_type": "code",
   "execution_count": 221,
   "metadata": {},
   "outputs": [],
   "source": [
    "team1_points = []\n",
    "team2_points = []\n",
    "\n",
    "for i in range(merge_df.shape[0]):\n",
    "    if merge_df.loc[:,'team_id'].iloc[i] == team1_id:\n",
    "        team1_points.append([merge_df.iloc[i,2], merge_df.iloc[i,3]])\n",
    "    elif merge_df.loc[:,'team_id'].iloc[i] == team2_id:\n",
    "        team2_points.append([merge_df.iloc[i,2], merge_df.iloc[i,3]])"
   ]
  },
  {
   "cell_type": "code",
   "execution_count": 228,
   "metadata": {},
   "outputs": [],
   "source": [
    "shape_area = []\n",
    "centroid_x = []\n",
    "centroid_y = []\n",
    "for i in range(len(team1_points)):\n",
    "    if i % 5 == 0:\n",
    "        team1_shape = ConvexHull(team1_points[i:i+5])\n",
    "        team2_shape = ConvexHull(team2_points[i:i+5])\n",
    "        for j in range(11):\n",
    "            if j == 0:\n",
    "                shape_area.append(np.nan)\n",
    "                centroid_x.append(np.nan)\n",
    "                centroid_y.append(np.nan)\n",
    "            elif (j > 0) and (j < 6):\n",
    "                shape_area.append(team1_shape.volume)\n",
    "                centroid_x.append(np.mean(team1_shape.points[team1_shape.vertices,0]))\n",
    "                centroid_y.append(np.mean(team1_shape.points[team1_shape.vertices,1]))\n",
    "            else:\n",
    "                shape_area.append(team2_shape.volume)   \n",
    "                centroid_x.append(np.mean(team2_shape.points[team2_shape.vertices,0]))\n",
    "                centroid_y.append(np.mean(team2_shape.points[team2_shape.vertices,1]))"
   ]
  },
  {
   "cell_type": "code",
   "execution_count": 230,
   "metadata": {},
   "outputs": [],
   "source": [
    "merge_df['shape_area'] = shape_area\n",
    "merge_df['centroid_x'] = centroid_x\n",
    "merge_df['centriod_y'] = centroid_y"
   ]
  },
  {
   "cell_type": "markdown",
   "metadata": {},
   "source": [
    "## Spacing at shot"
   ]
  },
  {
   "cell_type": "markdown",
   "metadata": {},
   "source": [
    "#### determining the timestamp at which the ball went in, then tracking it back to the time the ball was near the ball handler."
   ]
  },
  {
   "cell_type": "code",
   "execution_count": 219,
   "metadata": {},
   "outputs": [
    {
     "data": {
      "text/plain": [
       "0.9249707791208747"
      ]
     },
     "execution_count": 219,
     "metadata": {},
     "output_type": "execute_result"
    }
   ],
   "source": [
    "merge_df[merge_df.ball_handler == 1]['dist_from_ball'].quantile(.10)"
   ]
  },
  {
   "cell_type": "markdown",
   "metadata": {},
   "source": [
    "It appear reasonable to say we will assume the shot went off when the distance from the ball from the ball handler is less than 1."
   ]
  },
  {
   "cell_type": "code",
   "execution_count": 231,
   "metadata": {},
   "outputs": [],
   "source": [
    "start_event_id = merge_df[(merge_df.EVENTMSGTYPE == 1) | (merge_df.EVENTMSGTYPE == 2)]['EVENTNUM'][0]"
   ]
  },
  {
   "cell_type": "code",
   "execution_count": 232,
   "metadata": {},
   "outputs": [],
   "source": [
    "unique_time = merge_df.game_clock_total.unique().tolist()"
   ]
  },
  {
   "cell_type": "code",
   "execution_count": 244,
   "metadata": {},
   "outputs": [],
   "source": [
    "time_of_shot = []\n",
    "dist_from_rim = []\n",
    "timestamp = []\n",
    "event_id = start_event_id\n",
    "\n",
    "for i in range(merge_df.shape[0]):\n",
    "    if (merge_df.EVENTMSGTYPE[i] == 1) | (merge_df.EVENTMSGTYPE[i] == 2):\n",
    "        if merge_df.EVENTNUM[i] == event_id:\n",
    "            if i % 11 == 0:\n",
    "                left_basket_dist = math.sqrt(((merge_df.x_loc[i] - left_basket_coordinates[0])**2) + ((merge_df.y_loc[i] - left_basket_coordinates[1])**2))\n",
    "                right_basket_dist = math.sqrt(((merge_df.x_loc[i] - right_basket_coordinates[0])**2) + ((merge_df.y_loc[i] - right_basket_coordinates[1])**2))\n",
    "                dist_from_rim.append(min(left_basket_dist, right_basket_dist))\n",
    "                timestamp.append(merge_df.game_clock_total[i])         \n",
    "        else:\n",
    "            shot_index = dist_from_rim.index(min(dist_from_rim))\n",
    "            time = timestamp[shot_index]\n",
    "            time_index = unique_time.index(time)\n",
    "            shot_time_vals = unique_time[(time_index-100):time_index]\n",
    "            time_of_shot.append(merge_df[(merge_df.game_clock_total.isin(shot_time_vals)) & (merge_df.ball_handler == 1) & (merge_df.dist_from_ball < 1)]['game_clock_total'].tolist()[-1])\n",
    "                        \n",
    "            event_id = merge_df.EVENTNUM[i]\n",
    "            dist_from_rim = []\n",
    "            timestamp = []\n",
    "            if i % 11 == 0:\n",
    "                left_basket_dist = math.sqrt(((merge_df.x_loc[i] - left_basket_coordinates[0])**2) + ((merge_df.y_loc[i] - left_basket_coordinates[1])**2))\n",
    "                right_basket_dist = math.sqrt(((merge_df.x_loc[i] - right_basket_coordinates[0])**2) + ((merge_df.y_loc[i] - right_basket_coordinates[1])**2))\n",
    "                dist_from_rim.append(min(left_basket_dist, right_basket_dist))\n",
    "                timestamp.append(merge_df.game_clock_total[i])  \n",
    "\n",
    "shot_index = dist_from_rim.index(min(dist_from_rim))\n",
    "time = timestamp[shot_index]\n",
    "time_index = unique_time.index(time)\n",
    "shot_time_vals = unique_time[(time_index-100):time_index]\n",
    "time_of_shot.append(merge_df[(merge_df.game_clock_total.isin(shot_time_vals)) & (merge_df.ball_handler == 1) & (merge_df.dist_from_ball < 1)]['game_clock_total'].tolist()[-1])"
   ]
  },
  {
   "cell_type": "code",
   "execution_count": 245,
   "metadata": {},
   "outputs": [],
   "source": [
    "time_of_shot_col = [1 if i in time_of_shot else 0 for i in merge_df.game_clock_total]\n",
    "merge_df['time_of_shot'] = time_of_shot_col"
   ]
  },
  {
   "cell_type": "code",
   "execution_count": 246,
   "metadata": {},
   "outputs": [
    {
     "data": {
      "text/html": [
       "<div>\n",
       "<style scoped>\n",
       "    .dataframe tbody tr th:only-of-type {\n",
       "        vertical-align: middle;\n",
       "    }\n",
       "\n",
       "    .dataframe tbody tr th {\n",
       "        vertical-align: top;\n",
       "    }\n",
       "\n",
       "    .dataframe thead th {\n",
       "        text-align: right;\n",
       "    }\n",
       "</style>\n",
       "<table border=\"1\" class=\"dataframe\">\n",
       "  <thead>\n",
       "    <tr style=\"text-align: right;\">\n",
       "      <th></th>\n",
       "      <th></th>\n",
       "      <th>team_id</th>\n",
       "      <th>player_id</th>\n",
       "      <th>x_loc</th>\n",
       "      <th>y_loc</th>\n",
       "      <th>radius</th>\n",
       "      <th>game_clock</th>\n",
       "      <th>shot_clock</th>\n",
       "      <th>quarter</th>\n",
       "      <th>game_id</th>\n",
       "      <th>game_clock_new</th>\n",
       "      <th>...</th>\n",
       "      <th>avg_loc</th>\n",
       "      <th>possession</th>\n",
       "      <th>closest_defender</th>\n",
       "      <th>ball_handler</th>\n",
       "      <th>closest_defender_dist</th>\n",
       "      <th>ball_handler_dist</th>\n",
       "      <th>shape_area</th>\n",
       "      <th>centroid_x</th>\n",
       "      <th>centriod_y</th>\n",
       "      <th>time_of_shot</th>\n",
       "    </tr>\n",
       "    <tr>\n",
       "      <th>EVENTMSGTYPE</th>\n",
       "      <th>EVENTNUM</th>\n",
       "      <th></th>\n",
       "      <th></th>\n",
       "      <th></th>\n",
       "      <th></th>\n",
       "      <th></th>\n",
       "      <th></th>\n",
       "      <th></th>\n",
       "      <th></th>\n",
       "      <th></th>\n",
       "      <th></th>\n",
       "      <th></th>\n",
       "      <th></th>\n",
       "      <th></th>\n",
       "      <th></th>\n",
       "      <th></th>\n",
       "      <th></th>\n",
       "      <th></th>\n",
       "      <th></th>\n",
       "      <th></th>\n",
       "      <th></th>\n",
       "      <th></th>\n",
       "    </tr>\n",
       "  </thead>\n",
       "  <tbody>\n",
       "    <tr>\n",
       "      <th rowspan=\"5\" valign=\"top\">2.0</th>\n",
       "      <th>134</th>\n",
       "      <td>2948</td>\n",
       "      <td>2948</td>\n",
       "      <td>2948</td>\n",
       "      <td>2948</td>\n",
       "      <td>2948</td>\n",
       "      <td>2948</td>\n",
       "      <td>2948</td>\n",
       "      <td>2948</td>\n",
       "      <td>2948</td>\n",
       "      <td>2948</td>\n",
       "      <td>...</td>\n",
       "      <td>2948</td>\n",
       "      <td>2680</td>\n",
       "      <td>2948</td>\n",
       "      <td>2948</td>\n",
       "      <td>2948</td>\n",
       "      <td>2948</td>\n",
       "      <td>2680</td>\n",
       "      <td>2680</td>\n",
       "      <td>2680</td>\n",
       "      <td>2948</td>\n",
       "    </tr>\n",
       "    <tr>\n",
       "      <th>16</th>\n",
       "      <td>2805</td>\n",
       "      <td>2805</td>\n",
       "      <td>2805</td>\n",
       "      <td>2805</td>\n",
       "      <td>2805</td>\n",
       "      <td>2805</td>\n",
       "      <td>2805</td>\n",
       "      <td>2805</td>\n",
       "      <td>2805</td>\n",
       "      <td>2805</td>\n",
       "      <td>...</td>\n",
       "      <td>2805</td>\n",
       "      <td>2550</td>\n",
       "      <td>2805</td>\n",
       "      <td>2805</td>\n",
       "      <td>2805</td>\n",
       "      <td>2805</td>\n",
       "      <td>2550</td>\n",
       "      <td>2550</td>\n",
       "      <td>2550</td>\n",
       "      <td>2805</td>\n",
       "    </tr>\n",
       "    <tr>\n",
       "      <th>2</th>\n",
       "      <td>3355</td>\n",
       "      <td>3355</td>\n",
       "      <td>3355</td>\n",
       "      <td>3355</td>\n",
       "      <td>3355</td>\n",
       "      <td>3355</td>\n",
       "      <td>3355</td>\n",
       "      <td>3355</td>\n",
       "      <td>3355</td>\n",
       "      <td>3355</td>\n",
       "      <td>...</td>\n",
       "      <td>3355</td>\n",
       "      <td>3050</td>\n",
       "      <td>3355</td>\n",
       "      <td>3355</td>\n",
       "      <td>3355</td>\n",
       "      <td>3355</td>\n",
       "      <td>3050</td>\n",
       "      <td>3050</td>\n",
       "      <td>3050</td>\n",
       "      <td>3355</td>\n",
       "    </tr>\n",
       "    <tr>\n",
       "      <th>412</th>\n",
       "      <td>127886</td>\n",
       "      <td>127886</td>\n",
       "      <td>127886</td>\n",
       "      <td>127886</td>\n",
       "      <td>127886</td>\n",
       "      <td>127886</td>\n",
       "      <td>127886</td>\n",
       "      <td>127886</td>\n",
       "      <td>127886</td>\n",
       "      <td>127886</td>\n",
       "      <td>...</td>\n",
       "      <td>127886</td>\n",
       "      <td>116260</td>\n",
       "      <td>127886</td>\n",
       "      <td>127886</td>\n",
       "      <td>127886</td>\n",
       "      <td>127886</td>\n",
       "      <td>116260</td>\n",
       "      <td>116260</td>\n",
       "      <td>116260</td>\n",
       "      <td>127886</td>\n",
       "    </tr>\n",
       "    <tr>\n",
       "      <th>418</th>\n",
       "      <td>1364</td>\n",
       "      <td>1364</td>\n",
       "      <td>1364</td>\n",
       "      <td>1364</td>\n",
       "      <td>1364</td>\n",
       "      <td>1364</td>\n",
       "      <td>1364</td>\n",
       "      <td>1364</td>\n",
       "      <td>1364</td>\n",
       "      <td>1364</td>\n",
       "      <td>...</td>\n",
       "      <td>1364</td>\n",
       "      <td>1240</td>\n",
       "      <td>1364</td>\n",
       "      <td>1364</td>\n",
       "      <td>1364</td>\n",
       "      <td>1364</td>\n",
       "      <td>1240</td>\n",
       "      <td>1240</td>\n",
       "      <td>1240</td>\n",
       "      <td>1364</td>\n",
       "    </tr>\n",
       "    <tr>\n",
       "      <th>4.0</th>\n",
       "      <th>417</th>\n",
       "      <td>1034</td>\n",
       "      <td>1034</td>\n",
       "      <td>1034</td>\n",
       "      <td>1034</td>\n",
       "      <td>1034</td>\n",
       "      <td>1034</td>\n",
       "      <td>1034</td>\n",
       "      <td>1034</td>\n",
       "      <td>1034</td>\n",
       "      <td>1034</td>\n",
       "      <td>...</td>\n",
       "      <td>1034</td>\n",
       "      <td>940</td>\n",
       "      <td>1034</td>\n",
       "      <td>1034</td>\n",
       "      <td>1034</td>\n",
       "      <td>1034</td>\n",
       "      <td>940</td>\n",
       "      <td>940</td>\n",
       "      <td>940</td>\n",
       "      <td>1034</td>\n",
       "    </tr>\n",
       "    <tr>\n",
       "      <th>5.0</th>\n",
       "      <th>429</th>\n",
       "      <td>4972</td>\n",
       "      <td>4972</td>\n",
       "      <td>4972</td>\n",
       "      <td>4972</td>\n",
       "      <td>4972</td>\n",
       "      <td>4972</td>\n",
       "      <td>4972</td>\n",
       "      <td>4972</td>\n",
       "      <td>4972</td>\n",
       "      <td>4972</td>\n",
       "      <td>...</td>\n",
       "      <td>4972</td>\n",
       "      <td>4520</td>\n",
       "      <td>4972</td>\n",
       "      <td>4972</td>\n",
       "      <td>4972</td>\n",
       "      <td>4972</td>\n",
       "      <td>4520</td>\n",
       "      <td>4520</td>\n",
       "      <td>4520</td>\n",
       "      <td>4972</td>\n",
       "    </tr>\n",
       "    <tr>\n",
       "      <th rowspan=\"4\" valign=\"top\">6.0</th>\n",
       "      <th>10</th>\n",
       "      <td>9218</td>\n",
       "      <td>9218</td>\n",
       "      <td>9218</td>\n",
       "      <td>9218</td>\n",
       "      <td>9218</td>\n",
       "      <td>9218</td>\n",
       "      <td>9218</td>\n",
       "      <td>9218</td>\n",
       "      <td>9218</td>\n",
       "      <td>9218</td>\n",
       "      <td>...</td>\n",
       "      <td>9218</td>\n",
       "      <td>8380</td>\n",
       "      <td>9218</td>\n",
       "      <td>9218</td>\n",
       "      <td>9218</td>\n",
       "      <td>9218</td>\n",
       "      <td>8380</td>\n",
       "      <td>8380</td>\n",
       "      <td>8380</td>\n",
       "      <td>9218</td>\n",
       "    </tr>\n",
       "    <tr>\n",
       "      <th>132</th>\n",
       "      <td>84711</td>\n",
       "      <td>84711</td>\n",
       "      <td>84711</td>\n",
       "      <td>84711</td>\n",
       "      <td>84711</td>\n",
       "      <td>84711</td>\n",
       "      <td>84711</td>\n",
       "      <td>84711</td>\n",
       "      <td>84711</td>\n",
       "      <td>84711</td>\n",
       "      <td>...</td>\n",
       "      <td>84711</td>\n",
       "      <td>77010</td>\n",
       "      <td>84711</td>\n",
       "      <td>84711</td>\n",
       "      <td>84711</td>\n",
       "      <td>84711</td>\n",
       "      <td>77010</td>\n",
       "      <td>77010</td>\n",
       "      <td>77010</td>\n",
       "      <td>84711</td>\n",
       "    </tr>\n",
       "    <tr>\n",
       "      <th>143</th>\n",
       "      <td>8998</td>\n",
       "      <td>8998</td>\n",
       "      <td>8998</td>\n",
       "      <td>8998</td>\n",
       "      <td>8998</td>\n",
       "      <td>8998</td>\n",
       "      <td>8998</td>\n",
       "      <td>8998</td>\n",
       "      <td>8998</td>\n",
       "      <td>8998</td>\n",
       "      <td>...</td>\n",
       "      <td>8998</td>\n",
       "      <td>8180</td>\n",
       "      <td>8998</td>\n",
       "      <td>8998</td>\n",
       "      <td>8998</td>\n",
       "      <td>8998</td>\n",
       "      <td>8180</td>\n",
       "      <td>8180</td>\n",
       "      <td>8180</td>\n",
       "      <td>8998</td>\n",
       "    </tr>\n",
       "    <tr>\n",
       "      <th>421</th>\n",
       "      <td>1991</td>\n",
       "      <td>1991</td>\n",
       "      <td>1991</td>\n",
       "      <td>1991</td>\n",
       "      <td>1991</td>\n",
       "      <td>1991</td>\n",
       "      <td>1991</td>\n",
       "      <td>1991</td>\n",
       "      <td>1991</td>\n",
       "      <td>1991</td>\n",
       "      <td>...</td>\n",
       "      <td>1991</td>\n",
       "      <td>1810</td>\n",
       "      <td>1991</td>\n",
       "      <td>1991</td>\n",
       "      <td>1991</td>\n",
       "      <td>1991</td>\n",
       "      <td>1810</td>\n",
       "      <td>1810</td>\n",
       "      <td>1810</td>\n",
       "      <td>1991</td>\n",
       "    </tr>\n",
       "    <tr>\n",
       "      <th>9.0</th>\n",
       "      <th>146</th>\n",
       "      <td>3179</td>\n",
       "      <td>3179</td>\n",
       "      <td>3179</td>\n",
       "      <td>3179</td>\n",
       "      <td>3179</td>\n",
       "      <td>3179</td>\n",
       "      <td>3179</td>\n",
       "      <td>3179</td>\n",
       "      <td>3179</td>\n",
       "      <td>3179</td>\n",
       "      <td>...</td>\n",
       "      <td>3179</td>\n",
       "      <td>2890</td>\n",
       "      <td>3179</td>\n",
       "      <td>3179</td>\n",
       "      <td>3179</td>\n",
       "      <td>3179</td>\n",
       "      <td>2890</td>\n",
       "      <td>2890</td>\n",
       "      <td>2890</td>\n",
       "      <td>3179</td>\n",
       "    </tr>\n",
       "    <tr>\n",
       "      <th>12.0</th>\n",
       "      <th>262</th>\n",
       "      <td>89892</td>\n",
       "      <td>89892</td>\n",
       "      <td>89892</td>\n",
       "      <td>89892</td>\n",
       "      <td>89892</td>\n",
       "      <td>89892</td>\n",
       "      <td>89892</td>\n",
       "      <td>89892</td>\n",
       "      <td>89892</td>\n",
       "      <td>89892</td>\n",
       "      <td>...</td>\n",
       "      <td>89892</td>\n",
       "      <td>81720</td>\n",
       "      <td>89892</td>\n",
       "      <td>89892</td>\n",
       "      <td>89892</td>\n",
       "      <td>89892</td>\n",
       "      <td>81720</td>\n",
       "      <td>81720</td>\n",
       "      <td>81720</td>\n",
       "      <td>89892</td>\n",
       "    </tr>\n",
       "  </tbody>\n",
       "</table>\n",
       "<p>13 rows × 31 columns</p>\n",
       "</div>"
      ],
      "text/plain": [
       "                       team_id  player_id   x_loc   y_loc  radius  game_clock  \\\n",
       "EVENTMSGTYPE EVENTNUM                                                           \n",
       "2.0          134          2948       2948    2948    2948    2948        2948   \n",
       "             16           2805       2805    2805    2805    2805        2805   \n",
       "             2            3355       3355    3355    3355    3355        3355   \n",
       "             412        127886     127886  127886  127886  127886      127886   \n",
       "             418          1364       1364    1364    1364    1364        1364   \n",
       "4.0          417          1034       1034    1034    1034    1034        1034   \n",
       "5.0          429          4972       4972    4972    4972    4972        4972   \n",
       "6.0          10           9218       9218    9218    9218    9218        9218   \n",
       "             132         84711      84711   84711   84711   84711       84711   \n",
       "             143          8998       8998    8998    8998    8998        8998   \n",
       "             421          1991       1991    1991    1991    1991        1991   \n",
       "9.0          146          3179       3179    3179    3179    3179        3179   \n",
       "12.0         262         89892      89892   89892   89892   89892       89892   \n",
       "\n",
       "                       shot_clock  quarter  game_id  game_clock_new  ...  \\\n",
       "EVENTMSGTYPE EVENTNUM                                                ...   \n",
       "2.0          134             2948     2948     2948            2948  ...   \n",
       "             16              2805     2805     2805            2805  ...   \n",
       "             2               3355     3355     3355            3355  ...   \n",
       "             412           127886   127886   127886          127886  ...   \n",
       "             418             1364     1364     1364            1364  ...   \n",
       "4.0          417             1034     1034     1034            1034  ...   \n",
       "5.0          429             4972     4972     4972            4972  ...   \n",
       "6.0          10              9218     9218     9218            9218  ...   \n",
       "             132            84711    84711    84711           84711  ...   \n",
       "             143             8998     8998     8998            8998  ...   \n",
       "             421             1991     1991     1991            1991  ...   \n",
       "9.0          146             3179     3179     3179            3179  ...   \n",
       "12.0         262            89892    89892    89892           89892  ...   \n",
       "\n",
       "                       avg_loc  possession  closest_defender  ball_handler  \\\n",
       "EVENTMSGTYPE EVENTNUM                                                        \n",
       "2.0          134          2948        2680              2948          2948   \n",
       "             16           2805        2550              2805          2805   \n",
       "             2            3355        3050              3355          3355   \n",
       "             412        127886      116260            127886        127886   \n",
       "             418          1364        1240              1364          1364   \n",
       "4.0          417          1034         940              1034          1034   \n",
       "5.0          429          4972        4520              4972          4972   \n",
       "6.0          10           9218        8380              9218          9218   \n",
       "             132         84711       77010             84711         84711   \n",
       "             143          8998        8180              8998          8998   \n",
       "             421          1991        1810              1991          1991   \n",
       "9.0          146          3179        2890              3179          3179   \n",
       "12.0         262         89892       81720             89892         89892   \n",
       "\n",
       "                       closest_defender_dist  ball_handler_dist  shape_area  \\\n",
       "EVENTMSGTYPE EVENTNUM                                                         \n",
       "2.0          134                        2948               2948        2680   \n",
       "             16                         2805               2805        2550   \n",
       "             2                          3355               3355        3050   \n",
       "             412                      127886             127886      116260   \n",
       "             418                        1364               1364        1240   \n",
       "4.0          417                        1034               1034         940   \n",
       "5.0          429                        4972               4972        4520   \n",
       "6.0          10                         9218               9218        8380   \n",
       "             132                       84711              84711       77010   \n",
       "             143                        8998               8998        8180   \n",
       "             421                        1991               1991        1810   \n",
       "9.0          146                        3179               3179        2890   \n",
       "12.0         262                       89892              89892       81720   \n",
       "\n",
       "                       centroid_x  centriod_y  time_of_shot  \n",
       "EVENTMSGTYPE EVENTNUM                                        \n",
       "2.0          134             2680        2680          2948  \n",
       "             16              2550        2550          2805  \n",
       "             2               3050        3050          3355  \n",
       "             412           116260      116260        127886  \n",
       "             418             1240        1240          1364  \n",
       "4.0          417              940         940          1034  \n",
       "5.0          429             4520        4520          4972  \n",
       "6.0          10              8380        8380          9218  \n",
       "             132            77010       77010         84711  \n",
       "             143             8180        8180          8998  \n",
       "             421             1810        1810          1991  \n",
       "9.0          146             2890        2890          3179  \n",
       "12.0         262            81720       81720         89892  \n",
       "\n",
       "[13 rows x 31 columns]"
      ]
     },
     "execution_count": 246,
     "metadata": {},
     "output_type": "execute_result"
    }
   ],
   "source": [
    "merge_df.groupby(['EVENTMSGTYPE','EVENTNUM']).count()"
   ]
  },
  {
   "cell_type": "markdown",
   "metadata": {},
   "source": [
    "## Save DataFrame"
   ]
  },
  {
   "cell_type": "code",
   "execution_count": null,
   "metadata": {},
   "outputs": [],
   "source": [
    "merge_df.to_csv('C:\\\\Users\\\\Anthony\\\\Documents\\\\CapstoneDS-5999\\\\0021500491_merged.csv')\n",
    "#merge_df = pd.read_csv('0021500492_merged.csv')"
   ]
  },
  {
   "cell_type": "markdown",
   "metadata": {},
   "source": [
    "### Grouped by timestamp for use in Tableau"
   ]
  },
  {
   "cell_type": "code",
   "execution_count": null,
   "metadata": {},
   "outputs": [],
   "source": [
    "merge_df.columns"
   ]
  },
  {
   "cell_type": "code",
   "execution_count": null,
   "metadata": {},
   "outputs": [],
   "source": [
    "merge_df['game_id'] = merge_df.game_id.astype('int')"
   ]
  },
  {
   "cell_type": "code",
   "execution_count": null,
   "metadata": {},
   "outputs": [],
   "source": [
    "merged_tableau = merge_df.groupby(['team_id','quarter','game_clock']).agg({'game_id':'mean', 'EVENTMSGTYPE':'mean',\n",
    "                                                                           'EVENTNUM':'mean', 'shape_area':'mean',\n",
    "                                                                           'ball_handler_dist':'max', 'closest_defender_dist':'max',\n",
    "                                                                           'shot_clock':'mean', 'time_of_shot':'mean'}).reset_index()\n",
    "\n",
    "merged_tableau.to_csv('C:\\\\Users\\\\Anthony\\\\Documents\\\\CapstoneDS-5999\\\\0021500491_tableau_merged.csv')"
   ]
  },
  {
   "cell_type": "code",
   "execution_count": null,
   "metadata": {},
   "outputs": [],
   "source": [
    "merge_df = pd.read_csv('0021500491_tableau_merged.csv')\n",
    "merged_tableau"
   ]
  },
  {
   "cell_type": "markdown",
   "metadata": {},
   "source": [
    "## Animation of events"
   ]
  },
  {
   "cell_type": "code",
   "execution_count": 89,
   "metadata": {},
   "outputs": [
    {
     "data": {
      "text/plain": [
       "6.1"
      ]
     },
     "execution_count": 89,
     "metadata": {},
     "output_type": "execute_result"
    }
   ],
   "source": [
    "#merge_df[merge_df['EVENTNUM'] == ].loc[:,'shot_clock'].min()"
   ]
  },
  {
   "cell_type": "code",
   "execution_count": 165,
   "metadata": {},
   "outputs": [
    {
     "data": {
      "text/plain": [
       "8547"
      ]
     },
     "execution_count": 165,
     "metadata": {},
     "output_type": "execute_result"
    }
   ],
   "source": [
    "event_1_merge = merge_df[merge_df['EVENTNUM'] == 273]\n",
    "event_1_merge.shape[0]"
   ]
  },
  {
   "cell_type": "code",
   "execution_count": 87,
   "metadata": {},
   "outputs": [],
   "source": [
    "shot_clock = []\n",
    "x_ball = []\n",
    "y_ball = []\n",
    "x_team1 = []\n",
    "y_team1 = []\n",
    "x_team2 = []\n",
    "y_team2 = []\n",
    "\n",
    "ball_id = -1\n",
    "team1_id = event_1_merge.loc[:,'team_id'].iloc[1]\n",
    "\n",
    "for i in range(len(event_1_merge)):\n",
    "    if event_1_merge.loc[:,'team_id'].iloc[i] == ball_id:\n",
    "        x_ball.append(event_1_merge.iloc[i,2])\n",
    "        y_ball.append(event_1_merge.iloc[i,3])\n",
    "        shot_clock.append(event_1_merge.iloc[i,6])\n",
    "    elif event_1_merge.loc[:,'team_id'].iloc[i] == team1_id:\n",
    "        x_team1.append(event_1_merge.iloc[i,2])\n",
    "        y_team1.append(event_1_merge.iloc[i,3])\n",
    "    else:\n",
    "        x_team2.append(event_1_merge.iloc[i,2])\n",
    "        y_team2.append(event_1_merge.iloc[i,3])"
   ]
  },
  {
   "cell_type": "code",
   "execution_count": 88,
   "metadata": {},
   "outputs": [
    {
     "name": "stderr",
     "output_type": "stream",
     "text": [
      "MovieWriter imagemagick unavailable; using Pillow instead.\n"
     ]
    },
    {
     "data": {
      "image/png": "[encoded data removed]",
      "text/plain": [
       "<Figure size 432x288 with 1 Axes>"
      ]
     },
     "metadata": {
      "needs_background": "light"
     },
     "output_type": "display_data"
    }
   ],
   "source": [
    "fig = plt.figure()\n",
    "camera = Camera(fig)\n",
    "\n",
    "for i in range(len(x_team1)):\n",
    "    if i % 5 == 0:\n",
    "        plt.scatter(x_ball[int(i/5)],y_ball[int(i/5)], color = 'orange')\n",
    "        plt.scatter(x_team1[i:i+5], y_team1[i:i+5], color = 'blue')\n",
    "        plt.scatter(x_team2[i:i+5], y_team2[i:i+5], color = 'red')\n",
    "        plt.legend([f'shot clock: {shot_clock[int(i/5)]}'])\n",
    "        camera.snap()\n",
    "        \n",
    "animation = camera.animate(interval = 50, repeat = True, repeat_delay = 500)\n",
    "animation.save('celluloid_minimal_4.gif', writer = 'imagemagick')"
   ]
  },
  {
   "cell_type": "code",
   "execution_count": null,
   "metadata": {},
   "outputs": [],
   "source": [
    "def standardize(init_list):\n",
    "    standardize_list = []\n",
    "    mean = sum(init_list)/len(init_list)\n",
    "    stdev = np.std(init_list)\n",
    "    for i in range(len(init_list)):\n",
    "        standard_list.append((init_list[i] - mean)/stdev)"
   ]
  }
 ],
 "metadata": {
  "kernelspec": {
   "display_name": "Python 3",
   "language": "python",
   "name": "python3"
  },
  "language_info": {
   "codemirror_mode": {
    "name": "ipython",
    "version": 3
   },
   "file_extension": ".py",
   "mimetype": "text/x-python",
   "name": "python",
   "nbconvert_exporter": "python",
   "pygments_lexer": "ipython3",
   "version": "3.7.3"
  }
 },
 "nbformat": 4,
 "nbformat_minor": 4
}
