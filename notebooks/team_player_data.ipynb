{
 "cells": [
  {
   "cell_type": "code",
   "execution_count": 4,
   "metadata": {},
   "outputs": [],
   "source": [
    "import pandas as pd\n",
    "import pyarrow.feather as feather\n",
    "import json\n",
    "import os\n",
    "import sys"
   ]
  },
  {
   "cell_type": "markdown",
   "metadata": {},
   "source": [
    "## Getting the team name and player names for each game and adding them to a player and team dataset"
   ]
  },
  {
   "cell_type": "code",
   "execution_count": 33,
   "metadata": {},
   "outputs": [],
   "source": [
    "with open('0021500492.json') as f:\n",
    "  data = json.load(f)\n",
    "\n",
    "f.close()"
   ]
  },
  {
   "cell_type": "code",
   "execution_count": 47,
   "metadata": {},
   "outputs": [],
   "source": [
    "team_header = ['team_name', 'team_id']\n",
    "teams = []\n",
    "\n",
    "players_header = ['player_name', 'playerid', 'position']\n",
    "players = []"
   ]
  },
  {
   "cell_type": "code",
   "execution_count": 48,
   "metadata": {},
   "outputs": [],
   "source": [
    "events = data['events']"
   ]
  },
  {
   "cell_type": "code",
   "execution_count": 49,
   "metadata": {},
   "outputs": [],
   "source": [
    "home_players = events[0]['home']['players']\n",
    "away_players = events[0]['visitor']['players']"
   ]
  },
  {
   "cell_type": "code",
   "execution_count": 52,
   "metadata": {},
   "outputs": [],
   "source": [
    "for i in range(len(home_players)):\n",
    "    name = home_players[i]['firstname'] + \" \" + home_players[i]['lastname']\n",
    "    playerid = home_players[i]['playerid']\n",
    "    position = home_players[i]['position']\n",
    "    players.append([name, playerid, position])\n",
    "    \n",
    "for i in range(len(away_players)):\n",
    "    name = away_players[i]['firstname'] + \" \" + away_players[i]['lastname']\n",
    "    playerid = away_players[i]['playerid']\n",
    "    position = away_players[i]['position']\n",
    "    players.append([name, playerid, position])"
   ]
  },
  {
   "cell_type": "code",
   "execution_count": 51,
   "metadata": {},
   "outputs": [],
   "source": [
    "teams.append([events[0]['home']['name'], events[0]['home']['teamid']])\n",
    "teams.append([events[0]['visitor']['name'], events[0]['visitor']['teamid']])"
   ]
  },
  {
   "cell_type": "code",
   "execution_count": 54,
   "metadata": {},
   "outputs": [],
   "source": [
    "players = pd.DataFrame(players, columns=players_header).drop_duplicates()\n",
    "teams = pd.DataFrame(teams, columns=team_header).drop_duplicates()"
   ]
  },
  {
   "cell_type": "code",
   "execution_count": 56,
   "metadata": {},
   "outputs": [],
   "source": [
    "feather.write_feather(players, 'players.file')\n",
    "feather.write_feather(teams, 'teams.file')"
   ]
  }
 ],
 "metadata": {
  "kernelspec": {
   "display_name": "Python 3",
   "language": "python",
   "name": "python3"
  },
  "language_info": {
   "codemirror_mode": {
    "name": "ipython",
    "version": 3
   },
   "file_extension": ".py",
   "mimetype": "text/x-python",
   "name": "python",
   "nbconvert_exporter": "python",
   "pygments_lexer": "ipython3",
   "version": "3.7.3"
  }
 },
 "nbformat": 4,
 "nbformat_minor": 4
}
