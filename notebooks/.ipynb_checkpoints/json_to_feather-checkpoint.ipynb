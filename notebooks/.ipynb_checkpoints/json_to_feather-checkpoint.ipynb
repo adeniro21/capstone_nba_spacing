{
 "cells": [
  {
   "cell_type": "code",
   "execution_count": 1,
   "metadata": {},
   "outputs": [
    {
     "name": "stdout",
     "output_type": "stream",
     "text": [
      "Python 3.7.3\n"
     ]
    }
   ],
   "source": [
    "!python --version"
   ]
  },
  {
   "cell_type": "markdown",
   "metadata": {},
   "source": [
    "### Convert oringinal JSON files to feather files"
   ]
  },
  {
   "cell_type": "code",
   "execution_count": null,
   "metadata": {},
   "outputs": [],
   "source": [
    "import pandas\n",
    "import os\n",
    "import sys\n",
    "import json\n",
    "import pyarrow.feather as feather\n",
    "\n",
    "#import movement.config as CONFIG\n",
    "\n",
    "data_path = '\\\\home\\\\deniroar\\\\capstone\\\\data'\n",
    "feather_path = '\\\\home\\\\deniroar\\\\capstone\\\\movement'\n",
    "files = os.listdir(data_path)\n",
    "\n",
    "if not os.path.exists(feather_path):\n",
    "    os.makedirs(feather_path)\n",
    "\n",
    "count = 0\n",
    "movement_headers = [\"team_id\", \"player_id\", \"x_loc\", \"y_loc\", \"radius\", \"game_clock\", \"shot_clock\", \"quarter\", \"game_id\",\n",
    "                    \"event_id\"]\n",
    "for file in files:\n",
    "    if '.json' not in file:\n",
    "        continue\n",
    "    try:\n",
    "        count = count + 1\n",
    "        file_data = open('%s/%s' % (data_path, file))\n",
    "        game_id = file.replace('.json', '')\n",
    "        data = json.load(file_data)\n",
    "        events = data['events']\n",
    "        moments = []\n",
    "\n",
    "        for event in events:\n",
    "            event_id = event['eventId']\n",
    "            movement_data = event['moments']\n",
    "            for moment in movement_data:\n",
    "                for player in moment[5]:\n",
    "                    player.extend((moment[2], moment[3], moment[0], game_id, event_id))\n",
    "                    moments.append(player)\n",
    "\n",
    "        # movement frame is complete for game\n",
    "        movement = pandas.DataFrame(moments, columns=movement_headers)\n",
    "        feather.write_feather(movement,'%s/%s.file' % (feather_path, game_id), index=False)\n",
    "        # movement.to_json('./data/json/' + game_id + '.json', orient='records')\n",
    "\n",
    "        print '\\n'\n",
    "        print '\\n'\n",
    "        print 'Finished collecting dataframe for Game ID: ' + game_id\n",
    "        print 'Completed : ' + str(count) + ' games.'\n",
    "    except Exception as e:\n",
    "        print 'Error in loading: ' + str(file) + ' file, Error: ' + str(e)\n",
    "\n",
    "print '\\n'\n",
    "print '\\n'\n",
    "print 'Finished collecting dataframes for all games.'\n",
    "print str(count) + ' games counted'\n"
   ]
  }
 ],
 "metadata": {
  "kernelspec": {
   "display_name": "Python 3",
   "language": "python",
   "name": "python3"
  },
  "language_info": {
   "codemirror_mode": {
    "name": "ipython",
    "version": 3
   },
   "file_extension": ".py",
   "mimetype": "text/x-python",
   "name": "python",
   "nbconvert_exporter": "python",
   "pygments_lexer": "ipython3",
   "version": "3.7.3"
  }
 },
 "nbformat": 4,
 "nbformat_minor": 4
}
