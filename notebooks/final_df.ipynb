{
 "cells": [
  {
   "cell_type": "code",
   "execution_count": 64,
   "metadata": {},
   "outputs": [],
   "source": [
    "import pandas as pd\n",
    "import numpy as np\n",
    "from scipy.stats import pearsonr, spearmanr, kendalltau"
   ]
  },
  {
   "cell_type": "code",
   "execution_count": 24,
   "metadata": {},
   "outputs": [],
   "source": [
    "df = pd.read_csv('C:\\\\Users\\\\Anthony\\\\Documents\\\\CapstoneDS-5999\\\\data\\\\csv\\\\final_df.csv')"
   ]
  },
  {
   "cell_type": "markdown",
   "metadata": {},
   "source": [
    "### We need to join the team and player offensive rating measure to the final data"
   ]
  },
  {
   "cell_type": "code",
   "execution_count": 25,
   "metadata": {},
   "outputs": [],
   "source": [
    "off_rtg = pd.read_csv('C:\\\\Users\\\\Anthony\\\\Documents\\\\CapstoneDS-5999\\\\data\\\\csv\\\\sportsref_download15-16.csv')"
   ]
  },
  {
   "cell_type": "code",
   "execution_count": 26,
   "metadata": {},
   "outputs": [],
   "source": [
    "off_rtg_player = pd.read_csv('C:\\\\Users\\\\Anthony\\\\Documents\\\\CapstoneDS-5999\\\\data\\\\csv\\\\player_ortg15-16.csv', encoding='latin-1')"
   ]
  },
  {
   "cell_type": "code",
   "execution_count": 27,
   "metadata": {},
   "outputs": [],
   "source": [
    "off_rtg = off_rtg.loc[:,['Team','ORtg']]\n",
    "off_rtg.columns = ['Team','ORtg_team']"
   ]
  },
  {
   "cell_type": "code",
   "execution_count": 28,
   "metadata": {},
   "outputs": [],
   "source": [
    "off_rtg_player = off_rtg_player.loc[:,['Player','ORtg']]\n",
    "off_rtg_player.columns = ['Player','ORtg_player']"
   ]
  },
  {
   "cell_type": "code",
   "execution_count": 29,
   "metadata": {},
   "outputs": [],
   "source": [
    "df = df.iloc[:,2:11]"
   ]
  },
  {
   "cell_type": "code",
   "execution_count": 30,
   "metadata": {},
   "outputs": [
    {
     "data": {
      "text/plain": [
       "Index(['game_id', 'position', 'player_name', 'team_name', 'EVENTMSGTYPE',\n",
       "       'player_dist_bin', 'spacing_1', 'spacing_2', 'Team'],\n",
       "      dtype='object')"
      ]
     },
     "execution_count": 30,
     "metadata": {},
     "output_type": "execute_result"
    }
   ],
   "source": [
    "df.columns"
   ]
  },
  {
   "cell_type": "code",
   "execution_count": 31,
   "metadata": {},
   "outputs": [],
   "source": [
    "df = df.merge(off_rtg, left_on='team_name', right_on ='Team', how='left')\n",
    "df =df.merge(off_rtg_player, left_on='player_name', right_on ='Player', how='left')"
   ]
  },
  {
   "cell_type": "code",
   "execution_count": 35,
   "metadata": {},
   "outputs": [],
   "source": [
    "df = df.drop(columns=['Player','Team_y']).rename(columns={'Team_x':'Team'})"
   ]
  },
  {
   "cell_type": "code",
   "execution_count": 37,
   "metadata": {},
   "outputs": [],
   "source": [
    "df.to_csv('C:\\\\Users\\\\Anthony\\\\Documents\\\\CapstoneDS-5999\\\\data\\\\csv\\\\final_df.csv')"
   ]
  },
  {
   "cell_type": "markdown",
   "metadata": {},
   "source": [
    "### Conducting correlation test on spacing and offensive rating"
   ]
  },
  {
   "cell_type": "code",
   "execution_count": 68,
   "metadata": {},
   "outputs": [],
   "source": [
    "df_g = df[df.position == 'G']\n",
    "df_f = df[df.position == 'F']\n",
    "df_c = df[df.position == 'C']"
   ]
  },
  {
   "cell_type": "code",
   "execution_count": 69,
   "metadata": {},
   "outputs": [],
   "source": [
    "team_corr = df.groupby('Team').agg({'spacing_2':'mean', 'ORtg_team':'mean'})\n",
    "player_corr = df.groupby('player_name').agg({'spacing_2':'mean', 'ORtg_player':'mean'}).dropna()\n",
    "player_corr_g = df_g.groupby('player_name').agg({'spacing_2':'mean', 'ORtg_player':'mean'}).dropna()\n",
    "player_corr_f = df_f.groupby('player_name').agg({'spacing_2':'mean', 'ORtg_player':'mean'}).dropna()\n",
    "player_corr_c = df_c.groupby('player_name').agg({'spacing_2':'mean', 'ORtg_player':'mean'}).dropna()"
   ]
  },
  {
   "cell_type": "code",
   "execution_count": 70,
   "metadata": {},
   "outputs": [
    {
     "name": "stdout",
     "output_type": "stream",
     "text": [
      "Pearsons correlation Team: 0.058\n",
      "Spearmans correlation Team: -0.114\n",
      "Kendall Tau correlation Team: -0.085\n"
     ]
    }
   ],
   "source": [
    "# Team level correlation\n",
    "pearson, _ = pearsonr(team_corr.spacing_2,team_corr.ORtg_team)\n",
    "print('Pearsons correlation Team: %.3f' % pearson)\n",
    "\n",
    "spearman, _ = spearmanr(team_corr.spacing_2,team_corr.ORtg_team)\n",
    "print('Spearmans correlation Team: %.3f' % spearman)\n",
    "\n",
    "kendall, _ = kendalltau(team_corr.spacing_2,team_corr.ORtg_team)\n",
    "print('Kendall Tau correlation Team: %.3f' % kendall)"
   ]
  },
  {
   "cell_type": "code",
   "execution_count": 67,
   "metadata": {},
   "outputs": [
    {
     "name": "stdout",
     "output_type": "stream",
     "text": [
      "Pearsons correlation Player: 0.191\n",
      "Spearmans correlation Player: 0.218\n",
      "Kendall Tau correlation Player: 0.152\n"
     ]
    }
   ],
   "source": [
    "# Player level correlation overall\n",
    "pearson, _ = pearsonr(player_corr.spacing_2,player_corr.ORtg_player)\n",
    "print('Pearsons correlation Player: %.3f' % pearson)\n",
    "\n",
    "spearman, _ = spearmanr(player_corr.spacing_2,player_corr.ORtg_player)\n",
    "print('Spearmans correlation Player: %.3f' % spearman)\n",
    "\n",
    "kendall, _ = kendalltau(player_corr.spacing_2,player_corr.ORtg_player)\n",
    "print('Kendall Tau correlation Player: %.3f' % kendall)"
   ]
  },
  {
   "cell_type": "code",
   "execution_count": 72,
   "metadata": {},
   "outputs": [
    {
     "name": "stdout",
     "output_type": "stream",
     "text": [
      "Pearsons correlation Player: 0.333\n",
      "Spearmans correlation Player: 0.359\n",
      "Kendall Tau correlation Player: 0.256\n"
     ]
    }
   ],
   "source": [
    "# Player level correlation guards\n",
    "pearson, _ = pearsonr(player_corr_g.spacing_2,player_corr_g.ORtg_player)\n",
    "print('Pearsons correlation Player: %.3f' % pearson)\n",
    "\n",
    "spearman, _ = spearmanr(player_corr_g.spacing_2,player_corr_g.ORtg_player)\n",
    "print('Spearmans correlation Player: %.3f' % spearman)\n",
    "\n",
    "kendall, _ = kendalltau(player_corr_g.spacing_2,player_corr_g.ORtg_player)\n",
    "print('Kendall Tau correlation Player: %.3f' % kendall)"
   ]
  },
  {
   "cell_type": "code",
   "execution_count": 73,
   "metadata": {},
   "outputs": [
    {
     "name": "stdout",
     "output_type": "stream",
     "text": [
      "Pearsons correlation Player: 0.270\n",
      "Spearmans correlation Player: 0.323\n",
      "Kendall Tau correlation Player: 0.226\n"
     ]
    }
   ],
   "source": [
    "# Player level correlation forwards\n",
    "pearson, _ = pearsonr(player_corr_f.spacing_2,player_corr_f.ORtg_player)\n",
    "print('Pearsons correlation Player: %.3f' % pearson)\n",
    "\n",
    "spearman, _ = spearmanr(player_corr_f.spacing_2,player_corr_f.ORtg_player)\n",
    "print('Spearmans correlation Player: %.3f' % spearman)\n",
    "\n",
    "kendall, _ = kendalltau(player_corr_f.spacing_2,player_corr_f.ORtg_player)\n",
    "print('Kendall Tau correlation Player: %.3f' % kendall)"
   ]
  },
  {
   "cell_type": "code",
   "execution_count": 74,
   "metadata": {},
   "outputs": [
    {
     "name": "stdout",
     "output_type": "stream",
     "text": [
      "Pearsons correlation Player: 0.094\n",
      "Spearmans correlation Player: 0.109\n",
      "Kendall Tau correlation Player: 0.080\n"
     ]
    }
   ],
   "source": [
    "# Player level correlation centers\n",
    "pearson, _ = pearsonr(player_corr_c.spacing_2,player_corr_c.ORtg_player)\n",
    "print('Pearsons correlation Player: %.3f' % pearson)\n",
    "\n",
    "spearman, _ = spearmanr(player_corr_c.spacing_2,player_corr_c.ORtg_player)\n",
    "print('Spearmans correlation Player: %.3f' % spearman)\n",
    "\n",
    "kendall, _ = kendalltau(player_corr_c.spacing_2,player_corr_c.ORtg_player)\n",
    "print('Kendall Tau correlation Player: %.3f' % kendall)"
   ]
  }
 ],
 "metadata": {
  "kernelspec": {
   "display_name": "Python 3",
   "language": "python",
   "name": "python3"
  },
  "language_info": {
   "codemirror_mode": {
    "name": "ipython",
    "version": 3
   },
   "file_extension": ".py",
   "mimetype": "text/x-python",
   "name": "python",
   "nbconvert_exporter": "python",
   "pygments_lexer": "ipython3",
   "version": "3.7.3"
  }
 },
 "nbformat": 4,
 "nbformat_minor": 4
}
