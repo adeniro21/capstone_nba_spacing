{
 "cells": [
  {
   "cell_type": "code",
   "execution_count": 1,
   "metadata": {},
   "outputs": [],
   "source": [
    "import pandas as pd\n",
    "import numpy as np\n",
    "import matplotlib.pyplot as plt\n",
    "from scipy.spatial import ConvexHull, convex_hull_plot_2d\n",
    "import math\n",
    "from celluloid import Camera\n",
    "import json\n",
    "import os\n",
    "import sys"
   ]
  },
  {
   "cell_type": "code",
   "execution_count": 2,
   "metadata": {},
   "outputs": [],
   "source": [
    "shot_df = pd.read_csv('shots_fixed.csv')"
   ]
  },
  {
   "cell_type": "code",
   "execution_count": 3,
   "metadata": {},
   "outputs": [
    {
     "data": {
      "text/plain": [
       "Less Than 8 ft.    34984\n",
       "24+ ft.            23667\n",
       "16-24 ft.          13906\n",
       "8-16 ft.           11768\n",
       "Back Court Shot      142\n",
       "Name: SHOT_ZONE_RANGE, dtype: int64"
      ]
     },
     "execution_count": 3,
     "metadata": {},
     "output_type": "execute_result"
    }
   ],
   "source": [
    "shot_df.SHOT_ZONE_RANGE.value_counts()"
   ]
  },
  {
   "cell_type": "code",
   "execution_count": 4,
   "metadata": {},
   "outputs": [],
   "source": [
    "# groupy players by shot zone range to get shooting percentages and volume from various distances\n",
    "shot_distance_percentage = shot_df.groupby(['PLAYER_ID', 'SHOT_ZONE_RANGE']).agg({'SHOT_MADE_FLAG': ['mean','sum']}).reset_index()"
   ]
  },
  {
   "cell_type": "code",
   "execution_count": 5,
   "metadata": {},
   "outputs": [],
   "source": [
    "shot_range_bin = []\n",
    "for i in range(shot_distance_percentage.shape[0]):\n",
    "    if shot_distance_percentage.SHOT_ZONE_RANGE[i] == 'Less Than 8 ft.':\n",
    "        shot_range_bin.append(0)\n",
    "    elif shot_distance_percentage.SHOT_ZONE_RANGE[i] == '8-16 ft.':\n",
    "        shot_range_bin.append(8)\n",
    "    elif shot_distance_percentage.SHOT_ZONE_RANGE[i] == '16-24 ft.':\n",
    "        shot_range_bin.append(16)\n",
    "    elif shot_distance_percentage.SHOT_ZONE_RANGE[i] == '24+ ft.':\n",
    "        shot_range_bin.append(24)\n",
    "    else:\n",
    "        shot_range_bin.append(50)"
   ]
  },
  {
   "cell_type": "code",
   "execution_count": 6,
   "metadata": {},
   "outputs": [],
   "source": [
    "shot_distance_percentage['shot_range_bin'] = shot_range_bin"
   ]
  },
  {
   "cell_type": "code",
   "execution_count": 7,
   "metadata": {},
   "outputs": [],
   "source": [
    "shot_distance_percentage.columns = ['PLAYER_ID','SHOT_ZONE_RANGE','SHOT_PERCENTAGE','SHOT_COUNT_MADE','SHOT_RANGE_BIN']"
   ]
  },
  {
   "cell_type": "code",
   "execution_count": 8,
   "metadata": {},
   "outputs": [
    {
     "data": {
      "text/plain": [
       "PLAYER_ID          0\n",
       "SHOT_ZONE_RANGE    0\n",
       "SHOT_PERCENTAGE    0\n",
       "SHOT_COUNT_MADE    0\n",
       "SHOT_RANGE_BIN     0\n",
       "dtype: int64"
      ]
     },
     "execution_count": 8,
     "metadata": {},
     "output_type": "execute_result"
    }
   ],
   "source": [
    "#checking for missing data\n",
    "shot_distance_percentage.isna().sum()"
   ]
  },
  {
   "cell_type": "code",
   "execution_count": 43,
   "metadata": {},
   "outputs": [],
   "source": [
    "shot_distance_percentage.to_csv('shot_distance_percentage.csv')"
   ]
  }
 ],
 "metadata": {
  "kernelspec": {
   "display_name": "Python 3",
   "language": "python",
   "name": "python3"
  },
  "language_info": {
   "codemirror_mode": {
    "name": "ipython",
    "version": 3
   },
   "file_extension": ".py",
   "mimetype": "text/x-python",
   "name": "python",
   "nbconvert_exporter": "python",
   "pygments_lexer": "ipython3",
   "version": "3.7.3"
  }
 },
 "nbformat": 4,
 "nbformat_minor": 4
}
